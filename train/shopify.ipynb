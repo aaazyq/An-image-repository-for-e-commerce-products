{
 "cells": [
  {
   "cell_type": "markdown",
   "metadata": {},
   "source": [
    "# search\n",
    "input category, gender, baseColour, season,\tusage to get existing image "
   ]
  },
  {
   "cell_type": "code",
   "execution_count": 1,
   "metadata": {},
   "outputs": [],
   "source": [
    "import pandas as pd\n",
    "import copy"
   ]
  },
  {
   "cell_type": "code",
   "execution_count": 2,
   "metadata": {},
   "outputs": [
    {
     "data": {
      "text/html": [
       "<div>\n",
       "<style scoped>\n",
       "    .dataframe tbody tr th:only-of-type {\n",
       "        vertical-align: middle;\n",
       "    }\n",
       "\n",
       "    .dataframe tbody tr th {\n",
       "        vertical-align: top;\n",
       "    }\n",
       "\n",
       "    .dataframe thead th {\n",
       "        text-align: right;\n",
       "    }\n",
       "</style>\n",
       "<table border=\"1\" class=\"dataframe\">\n",
       "  <thead>\n",
       "    <tr style=\"text-align: right;\">\n",
       "      <th></th>\n",
       "      <th>id</th>\n",
       "      <th>category</th>\n",
       "      <th>gender</th>\n",
       "      <th>baseColour</th>\n",
       "      <th>season</th>\n",
       "      <th>usage</th>\n",
       "      <th>noisyTextDescription</th>\n",
       "    </tr>\n",
       "  </thead>\n",
       "  <tbody>\n",
       "    <tr>\n",
       "      <th>0</th>\n",
       "      <td>36274</td>\n",
       "      <td>Scarves</td>\n",
       "      <td>Women</td>\n",
       "      <td>Grey</td>\n",
       "      <td>Summer</td>\n",
       "      <td>Casual</td>\n",
       "      <td>Femella Women Ankle-Length Grey AQ-S800WD-1EVD...</td>\n",
       "    </tr>\n",
       "    <tr>\n",
       "      <th>1</th>\n",
       "      <td>15129</td>\n",
       "      <td>Flip Flops</td>\n",
       "      <td>Unisex</td>\n",
       "      <td>Green</td>\n",
       "      <td>Summer</td>\n",
       "      <td>Casual</td>\n",
       "      <td>Converse Unisex Casual Skirts Slipper</td>\n",
       "    </tr>\n",
       "    <tr>\n",
       "      <th>2</th>\n",
       "      <td>58976</td>\n",
       "      <td>Topwear</td>\n",
       "      <td>Women</td>\n",
       "      <td>Red</td>\n",
       "      <td>Summer</td>\n",
       "      <td>Ethnic</td>\n",
       "      <td>Velia Women Acetone Kurta</td>\n",
       "    </tr>\n",
       "    <tr>\n",
       "      <th>3</th>\n",
       "      <td>32922</td>\n",
       "      <td>Sandal</td>\n",
       "      <td>Men</td>\n",
       "      <td>Brown</td>\n",
       "      <td>Summer</td>\n",
       "      <td>Casual</td>\n",
       "      <td>Enroute Men Leather Brown Sandals</td>\n",
       "    </tr>\n",
       "    <tr>\n",
       "      <th>4</th>\n",
       "      <td>29561</td>\n",
       "      <td>Topwear</td>\n",
       "      <td>Women</td>\n",
       "      <td>Pink</td>\n",
       "      <td>Fall</td>\n",
       "      <td>Ethnic</td>\n",
       "      <td>Aneri Exclusive Anu Pink Inspirartion</td>\n",
       "    </tr>\n",
       "    <tr>\n",
       "      <th>...</th>\n",
       "      <td>...</td>\n",
       "      <td>...</td>\n",
       "      <td>...</td>\n",
       "      <td>...</td>\n",
       "      <td>...</td>\n",
       "      <td>...</td>\n",
       "      <td>...</td>\n",
       "    </tr>\n",
       "    <tr>\n",
       "      <th>21622</th>\n",
       "      <td>5435</td>\n",
       "      <td>Innerwear</td>\n",
       "      <td>Men</td>\n",
       "      <td>Black</td>\n",
       "      <td>Summer</td>\n",
       "      <td>Casual</td>\n",
       "      <td>SHE-3802D-1ADR Men Black Briefs</td>\n",
       "    </tr>\n",
       "    <tr>\n",
       "      <th>21623</th>\n",
       "      <td>27880</td>\n",
       "      <td>Belts</td>\n",
       "      <td>Men</td>\n",
       "      <td>Brown</td>\n",
       "      <td>Summer</td>\n",
       "      <td>Casual</td>\n",
       "      <td>Adipower &amp; Taylor Men Brown Quince</td>\n",
       "    </tr>\n",
       "    <tr>\n",
       "      <th>21624</th>\n",
       "      <td>38385</td>\n",
       "      <td>Shoes</td>\n",
       "      <td>Women</td>\n",
       "      <td>Beige</td>\n",
       "      <td>Winter</td>\n",
       "      <td>Casual</td>\n",
       "      <td>Rocia Women R348 Flats</td>\n",
       "    </tr>\n",
       "    <tr>\n",
       "      <th>21625</th>\n",
       "      <td>34853</td>\n",
       "      <td>Watches</td>\n",
       "      <td>Men</td>\n",
       "      <td>Steel</td>\n",
       "      <td>Winter</td>\n",
       "      <td>Casual</td>\n",
       "      <td>Fastrack Men Black Amethyst Watch</td>\n",
       "    </tr>\n",
       "    <tr>\n",
       "      <th>21626</th>\n",
       "      <td>41407</td>\n",
       "      <td>Topwear</td>\n",
       "      <td>Men</td>\n",
       "      <td>White</td>\n",
       "      <td>Summer</td>\n",
       "      <td>Casual</td>\n",
       "      <td>Arrow Ghicha Men White Slim Surf Shirt</td>\n",
       "    </tr>\n",
       "  </tbody>\n",
       "</table>\n",
       "<p>21627 rows × 7 columns</p>\n",
       "</div>"
      ],
      "text/plain": [
       "          id    category  gender baseColour  season   usage  \\\n",
       "0      36274     Scarves   Women       Grey  Summer  Casual   \n",
       "1      15129  Flip Flops  Unisex      Green  Summer  Casual   \n",
       "2      58976     Topwear   Women        Red  Summer  Ethnic   \n",
       "3      32922      Sandal     Men      Brown  Summer  Casual   \n",
       "4      29561     Topwear   Women       Pink    Fall  Ethnic   \n",
       "...      ...         ...     ...        ...     ...     ...   \n",
       "21622   5435   Innerwear     Men      Black  Summer  Casual   \n",
       "21623  27880       Belts     Men      Brown  Summer  Casual   \n",
       "21624  38385       Shoes   Women      Beige  Winter  Casual   \n",
       "21625  34853     Watches     Men      Steel  Winter  Casual   \n",
       "21626  41407     Topwear     Men      White  Summer  Casual   \n",
       "\n",
       "                                    noisyTextDescription  \n",
       "0      Femella Women Ankle-Length Grey AQ-S800WD-1EVD...  \n",
       "1                  Converse Unisex Casual Skirts Slipper  \n",
       "2                              Velia Women Acetone Kurta  \n",
       "3                      Enroute Men Leather Brown Sandals  \n",
       "4                  Aneri Exclusive Anu Pink Inspirartion  \n",
       "...                                                  ...  \n",
       "21622                    SHE-3802D-1ADR Men Black Briefs  \n",
       "21623                 Adipower & Taylor Men Brown Quince  \n",
       "21624                             Rocia Women R348 Flats  \n",
       "21625                  Fastrack Men Black Amethyst Watch  \n",
       "21626             Arrow Ghicha Men White Slim Surf Shirt  \n",
       "\n",
       "[21627 rows x 7 columns]"
      ]
     },
     "execution_count": 2,
     "metadata": {},
     "output_type": "execute_result"
    }
   ],
   "source": [
    "train_data = pd.read_csv(\"data/train.csv\")\n",
    "train_data"
   ]
  },
  {
   "cell_type": "code",
   "execution_count": 6,
   "metadata": {
    "collapsed": true
   },
   "outputs": [
    {
     "data": {
      "text/plain": [
       "Topwear                     7689\n",
       "Shoes                       3607\n",
       "Bags                        1517\n",
       "Bottomwear                  1326\n",
       "Watches                     1248\n",
       "Innerwear                    910\n",
       "Eyewear                      531\n",
       "Jewellery                    526\n",
       "Fragrance                    521\n",
       "Sandal                       463\n",
       "Flip Flops                   461\n",
       "Wallets                      418\n",
       "Belts                        382\n",
       "Socks                        340\n",
       "Dress                        239\n",
       "Loungewear and Nightwear     222\n",
       "Saree                        214\n",
       "Lips                         193\n",
       "Nails                        150\n",
       "Ties                         130\n",
       "Headwear                     128\n",
       "Makeup                       118\n",
       "Accessories                   64\n",
       "Free Gifts                    61\n",
       "Apparel Set                   60\n",
       "Scarves                       59\n",
       "Cufflinks                     50\n",
       "Name: category, dtype: int64"
      ]
     },
     "execution_count": 6,
     "metadata": {},
     "output_type": "execute_result"
    }
   ],
   "source": [
    "train_data['category'].value_counts()"
   ]
  },
  {
   "cell_type": "code",
   "execution_count": null,
   "metadata": {},
   "outputs": [],
   "source": [
    "    def pressed(self):\n",
    "        category = self.comboBox_c.currentText()\n",
    "        season = self.comboBox_s.currentText()\n",
    "        gender = self.comboBox_g.currentText()\n",
    "        print(category, season, gender)\n",
    "        # self.pushButton.clicked.connect(self.pressed)"
   ]
  },
  {
   "cell_type": "code",
   "execution_count": 4,
   "metadata": {},
   "outputs": [
    {
     "data": {
      "text/plain": [
       "Men       10880\n",
       "Women      8995\n",
       "Unisex     1023\n",
       "Boys        411\n",
       "Girls       318\n",
       "Name: gender, dtype: int64"
      ]
     },
     "execution_count": 4,
     "metadata": {},
     "output_type": "execute_result"
    }
   ],
   "source": [
    "train_data['gender'].value_counts()"
   ]
  },
  {
   "cell_type": "code",
   "execution_count": 5,
   "metadata": {},
   "outputs": [
    {
     "data": {
      "text/plain": [
       "Summer    10492\n",
       "Fall       5643\n",
       "Winter     4231\n",
       "Spring     1261\n",
       "Name: season, dtype: int64"
      ]
     },
     "execution_count": 5,
     "metadata": {},
     "output_type": "execute_result"
    }
   ],
   "source": [
    "train_data['season'].value_counts()"
   ]
  },
  {
   "cell_type": "code",
   "execution_count": 11,
   "metadata": {},
   "outputs": [],
   "source": [
    "category = \"Topwear\"\n",
    "season = \"Summer\"\n",
    "gender = \"Men\"\n",
    "\n",
    "def filter_data_by_choice(train_data, category, season, gender):\n",
    "    filtered_data = train_data\n",
    "    if category != \"All\":\n",
    "        filtered_data = filtered_data.loc[filtered_data[\"category\"] == category,]\n",
    "\n",
    "    if season != \"All\":\n",
    "        filtered_data = filtered_data.loc[filtered_data[\"season\"] == season,]\n",
    "\n",
    "    if gender != \"All\":\n",
    "        filtered_data = filtered_data.loc[filtered_data[\"gender\"] == gender,]\n",
    "    return len(filtered_data),list(filtered_data['id'])"
   ]
  },
  {
   "cell_type": "code",
   "execution_count": 13,
   "metadata": {},
   "outputs": [],
   "source": [
    "filtered_data = train_data\n",
    "if category != \"All\":\n",
    "    filtered_data = filtered_data.loc[filtered_data[\"category\"] == category,]\n",
    "\n",
    "if season != \"All\":\n",
    "    filtered_data = filtered_data.loc[filtered_data[\"season\"] == season,]\n",
    "\n",
    "if gender != \"All\":\n",
    "    filtered_data = filtered_data.loc[filtered_data[\"gender\"] == gender,]\n",
    "\n",
    "image_num = len(filtered_data)\n",
    "image_list = list(filtered_data['id'])"
   ]
  },
  {
   "cell_type": "markdown",
   "metadata": {},
   "source": [
    "### search by text"
   ]
  },
  {
   "cell_type": "code",
   "execution_count": 1,
   "metadata": {},
   "outputs": [
    {
     "name": "stderr",
     "output_type": "stream",
     "text": [
      "Using TensorFlow backend.\n"
     ]
    }
   ],
   "source": [
    "import numpy as np # linear algebra\n",
    "import pandas as pd # data processing, CSV file I/O (e.g. pd.read_csv)\n",
    "import xgboost as xgb\n",
    "import re\n",
    "from nltk.corpus import stopwords\n",
    "import keras.preprocessing.text\n",
    "from keras.preprocessing.text import Tokenizer\n",
    "from keras.preprocessing.sequence import pad_sequences\n",
    "from tensorflow.keras.models import load_model\n",
    "import keras\n",
    "# from keras.datasets import cifar10\n",
    "from tensorflow.keras.preprocessing.image import ImageDataGenerator\n",
    "from tensorflow.keras.models import Sequential, load_model\n",
    "from tensorflow.keras.layers import Dense, Dropout, Activation, Flatten\n",
    "from tensorflow.keras.layers import Conv2D, MaxPooling2D, SpatialDropout1D, Embedding, LSTM\n",
    "from tensorflow.keras.callbacks import ModelCheckpoint,EarlyStopping"
   ]
  },
  {
   "cell_type": "code",
   "execution_count": 2,
   "metadata": {},
   "outputs": [],
   "source": [
    "import pickle\n",
    "\n",
    "with open('tokenizer.pickle', 'rb') as handle:\n",
    "    tokenizer = pickle.load(handle)"
   ]
  },
  {
   "cell_type": "code",
   "execution_count": 3,
   "metadata": {},
   "outputs": [],
   "source": [
    "model_lstm = load_model('model/best_model_lstm.h5') "
   ]
  },
  {
   "cell_type": "code",
   "execution_count": 8,
   "metadata": {},
   "outputs": [],
   "source": [
    "REPLACE_BY_SPACE_RE = re.compile('[/(){}\\[\\]\\|@,;]')\n",
    "BAD_SYMBOLS_RE = re.compile('[^0-9a-z #+_]')\n",
    "STOPWORDS = set(stopwords.words('english'))\n",
    "\n",
    "def clean_text(text):\n",
    "    \"\"\"\n",
    "        text: a string\n",
    "        \n",
    "        return: modified initial string\n",
    "    \"\"\"\n",
    "    text = text.lower() # lowercase text\n",
    "    text = REPLACE_BY_SPACE_RE.sub(' ', text) # replace REPLACE_BY_SPACE_RE symbols by space in text. substitute the matched string in REPLACE_BY_SPACE_RE with space.\n",
    "    text = BAD_SYMBOLS_RE.sub('', text) # remove symbols which are in BAD_SYMBOLS_RE from text. substitute the matched string in BAD_SYMBOLS_RE with nothing. \n",
    "\n",
    "    text = ' '.join(word for word in text.split() if word not in STOPWORDS) # remove stopwors from text\n",
    "    return text\n",
    "\n",
    "testtext = 'Chromozome Men Black Fashion Vest'\n",
    "cleaned_text = clean_text(testtext)"
   ]
  },
  {
   "cell_type": "code",
   "execution_count": 9,
   "metadata": {},
   "outputs": [
    {
     "data": {
      "text/plain": [
       "array([[  0,   0,   0,   0,   0,   0,   0,   0,   0,   0,   0,   0,   0,\n",
       "          0,   0, 173,   1,   5, 736, 246]])"
      ]
     },
     "execution_count": 9,
     "metadata": {},
     "output_type": "execute_result"
    }
   ],
   "source": [
    "X = tokenizer.texts_to_sequences([cleaned_text])\n",
    "X = pad_sequences(X, maxlen=20)\n",
    "X"
   ]
  },
  {
   "cell_type": "code",
   "execution_count": 10,
   "metadata": {},
   "outputs": [
    {
     "data": {
      "text/plain": [
       "'Innerwear'"
      ]
     },
     "execution_count": 10,
     "metadata": {},
     "output_type": "execute_result"
    }
   ],
   "source": [
    "# first stage predict for test data\n",
    "test_pred = model_lstm.predict(X)\n",
    "pred_label = np.argmax(test_pred)\n",
    "\n",
    "category_mapping = {0: 'Accessories',\n",
    " 1: 'Apparel Set',\n",
    " 2: 'Bags',\n",
    " 3: 'Belts',\n",
    " 4: 'Bottomwear',\n",
    " 5: 'Cufflinks',\n",
    " 6: 'Dress',\n",
    " 7: 'Eyewear',\n",
    " 8: 'Flip Flops',\n",
    " 9: 'Fragrance',\n",
    " 10: 'Free Gifts',\n",
    " 11: 'Headwear',\n",
    " 12: 'Innerwear',\n",
    " 13: 'Jewellery',\n",
    " 14: 'Lips',\n",
    " 15: 'Loungewear and Nightwear',\n",
    " 16: 'Makeup',\n",
    " 17: 'Nails',\n",
    " 18: 'Sandal',\n",
    " 19: 'Saree',\n",
    " 20: 'Scarves',\n",
    " 21: 'Shoes',\n",
    " 22: 'Socks',\n",
    " 23: 'Ties',\n",
    " 24: 'Topwear',\n",
    " 25: 'Wallets',\n",
    " 26: 'Watches'}\n",
    "category_mapping[int(pred_label)]\n"
   ]
  }
 ],
 "metadata": {
  "kernelspec": {
   "display_name": "Python 3",
   "language": "python",
   "name": "python3"
  },
  "language_info": {
   "codemirror_mode": {
    "name": "ipython",
    "version": 3
   },
   "file_extension": ".py",
   "mimetype": "text/x-python",
   "name": "python",
   "nbconvert_exporter": "python",
   "pygments_lexer": "ipython3",
   "version": "3.7.9"
  }
 },
 "nbformat": 4,
 "nbformat_minor": 4
}
